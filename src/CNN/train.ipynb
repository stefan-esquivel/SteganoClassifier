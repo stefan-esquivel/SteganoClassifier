{
 "cells": [
  {
   "cell_type": "code",
   "execution_count": 21,
   "metadata": {},
   "outputs": [],
   "source": [
    "import tensorflow as tf\n",
    "from tensorflow import keras\n",
    "from tensorflow.keras import layers"
   ]
  },
  {
   "cell_type": "code",
   "execution_count": null,
   "metadata": {},
   "outputs": [],
   "source": []
  },
  {
   "cell_type": "code",
   "execution_count": 41,
   "metadata": {},
   "outputs": [
    {
     "name": "stdout",
     "output_type": "stream",
     "text": [
      "Model: \"SteganographyCNN\"\n",
      "_________________________________________________________________\n",
      " Layer (type)                Output Shape              Param #   \n",
      "=================================================================\n",
      " input_13 (InputLayer)       [(None, 512, 512, 3)]     0         \n",
      "                                                                 \n",
      " rescaling_11 (Rescaling)    (None, 512, 512, 3)       0         \n",
      "                                                                 \n",
      " conv2d_19 (Conv2D)          (None, 510, 510, 1)       28        \n",
      "                                                                 \n",
      " conv2d_20 (Conv2D)          (None, 2, 2, 64)          16581248  \n",
      "                                                                 \n",
      " flatten_8 (Flatten)         (None, 256)               0         \n",
      "                                                                 \n",
      " dense_18 (Dense)            (None, 256)               65792     \n",
      "                                                                 \n",
      " dense_19 (Dense)            (None, 2)                 514       \n",
      "                                                                 \n",
      "=================================================================\n",
      "Total params: 16,647,582\n",
      "Trainable params: 16,647,582\n",
      "Non-trainable params: 0\n",
      "_________________________________________________________________\n"
     ]
    }
   ],
   "source": [
    "from tensorflow.keras.layers import Rescaling\n",
    "\n",
    "input_shape = (512, 512, 3)\n",
    "\n",
    "def get_model(width=512, hight=512, depth=3):\n",
    "\n",
    "    inputs = keras.Input((width, hight, depth))\n",
    "\n",
    "    # scale down to proper size\n",
    "    x = Rescaling(scale=1.0 / 255)(inputs)\n",
    "\n",
    "\n",
    "    # this model is based off of large convolution filters\n",
    "\n",
    "    x = layers.Conv2D(filters=1, kernel_size=3, activation=\"relu\")(x)\n",
    "    x = layers.Conv2D(filters=64, kernel_size=509, activation=\"relu\")(x)\n",
    "    x = layers.Flatten()(x)\n",
    "    x = layers.Dense(units = 64*4, activation=\"sigmoid\")(x)\n",
    "    \n",
    "    # input is ether stegano or not\n",
    "    number_of_classes = 2\n",
    "    \n",
    "    output = layers.Dense(number_of_classes, activation=\"softmax\")(x)\n",
    "\n",
    "    model = keras.Model(inputs, output, name=\"SteganographyCNN\")\n",
    "\n",
    "    return model\n",
    "\n",
    "model = get_model(width=512, hight=512, depth=3)\n",
    "\n",
    "model.summary()"
   ]
  },
  {
   "cell_type": "code",
   "execution_count": 42,
   "metadata": {},
   "outputs": [
    {
     "name": "stdout",
     "output_type": "stream",
     "text": [
      "/home/jovyan\n"
     ]
    }
   ],
   "source": [
    "!pwd"
   ]
  },
  {
   "cell_type": "code",
   "execution_count": 43,
   "metadata": {},
   "outputs": [
    {
     "name": "stdout",
     "output_type": "stream",
     "text": [
      "(512, 512, 3)\n",
      "1/1 [==============================] - 0s 450ms/step\n"
     ]
    },
    {
     "data": {
      "text/plain": [
       "array([[0.5454633 , 0.45453668]], dtype=float32)"
      ]
     },
     "execution_count": 43,
     "metadata": {},
     "output_type": "execute_result"
    }
   ],
   "source": [
    "import matplotlib.image as mpimg\n",
    "\n",
    "img = mpimg.imread('./work/data/Test/0001.jpg')\n",
    "\n",
    "print(img.shape)\n",
    "\n",
    "# Reshape for model\n",
    "x = img.reshape((1,512,512,3))\n",
    "\n",
    "model.predict(x)"
   ]
  }
 ],
 "metadata": {
  "kernelspec": {
   "display_name": "Python 3 (ipykernel)",
   "language": "python",
   "name": "python3"
  },
  "orig_nbformat": 4
 },
 "nbformat": 4,
 "nbformat_minor": 2
}

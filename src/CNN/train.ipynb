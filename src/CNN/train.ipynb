{
 "cells": [
  {
   "cell_type": "code",
   "execution_count": 21,
   "metadata": {},
   "outputs": [],
   "source": [
    "import tensorflow as tf\n",
    "from tensorflow import keras"
   ]
  },
  {
   "cell_type": "code",
   "execution_count": null,
   "metadata": {},
   "outputs": [],
   "source": []
  },
  {
   "cell_type": "code",
   "execution_count": 22,
   "metadata": {},
   "outputs": [],
   "source": [
    "from tensorflow.keras.layers import Rescaling\n",
    "\n",
    "\n",
    "\n",
    "def get_model(width=512, hight=512, depth=3):\n",
    "\n",
    "    inputs = keras.Inputs(shape = (width, hight, depth))\n",
    "\n",
    "    # scale down to proper size\n",
    "    x = Rescaling(scale=1.0 / 255)(inputs)\n",
    "\n",
    "    # this model is based off of large convolution filters\n",
    "\n",
    "    x = layers.Conv2D(filters=1, kernel_size=3, activation=\"relu\")(x)\n",
    "    x = layers.Conv2D(filters=64, kernal_size=512, activation=\"relu\")(x)\n",
    "    x = layers.Flatten()(x)\n",
    "    x = layers.Dense(units = 64*4, activation=\"relu\")(x)\n",
    "    \n",
    "    # input is ether stegano or not\n",
    "    number_of_classes = 2\n",
    "\n",
    "    output = layers.Dense(number_of_classes, activation=\"softmax\")(x)\n",
    "\n",
    "    model = keras.Model(inputs, output, \"Steganography CNN\")\n",
    "\n",
    "    return model\n"
   ]
  }
 ],
 "metadata": {
  "kernelspec": {
   "display_name": "Python 3 (ipykernel)",
   "language": "python",
   "name": "python3"
  },
  "orig_nbformat": 4
 },
 "nbformat": 4,
 "nbformat_minor": 2
}

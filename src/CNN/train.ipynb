{
 "cells": [
  {
   "cell_type": "code",
   "execution_count": 21,
   "metadata": {},
   "outputs": [],
   "source": [
    "import tensorflow as tf\n",
    "from tensorflow import keras\n",
    "from tensorflow.keras import layers"
   ]
  },
  {
   "cell_type": "code",
   "execution_count": 32,
   "metadata": {},
   "outputs": [
    {
     "name": "stdout",
     "output_type": "stream",
     "text": [
      "Model: \"Steganography CNN\"\n",
      "_________________________________________________________________\n",
      " Layer (type)                Output Shape              Param #   \n",
      "=================================================================\n",
      " input_12 (InputLayer)       [(None, 512, 512, 3)]     0         \n",
      "                                                                 \n",
      " rescaling_10 (Rescaling)    (None, 512, 512, 3)       0         \n",
      "                                                                 \n",
      " conv2d_17 (Conv2D)          (None, 510, 510, 1)       28        \n",
      "                                                                 \n",
      " conv2d_18 (Conv2D)          (None, 2, 2, 64)          16581248  \n",
      "                                                                 \n",
      " flatten_7 (Flatten)         (None, 256)               0         \n",
      "                                                                 \n",
      " dense_16 (Dense)            (None, 256)               65792     \n",
      "                                                                 \n",
      " dense_17 (Dense)            (None, 2)                 514       \n",
      "                                                                 \n",
      "=================================================================\n",
      "Total params: 16,647,582\n",
      "Trainable params: 16,647,582\n",
      "Non-trainable params: 0\n",
      "_________________________________________________________________\n"
     ]
    }
   ],
   "source": [
    "from tensorflow.keras.layers import Rescaling\n",
    "\n",
    "input_shape = (512, 512, 3)\n",
    "\n",
    "def get_model(width=512, hight=512, depth=3):\n",
    "\n",
    "    inputs = keras.Input((width, hight, depth))\n",
    "\n",
    "    # scale down to proper size\n",
    "    x = Rescaling(scale=1.0 / 255)(inputs)\n",
    "\n",
    "\n",
    "    # this model is based off of large convolution filters\n",
    "\n",
    "    x = layers.Conv2D(filters=1, kernel_size=3, activation=\"relu\")(x)\n",
    "    x = layers.Conv2D(filters=64, kernel_size=509, activation=\"relu\")(x)\n",
    "    x = layers.Flatten()(x)\n",
    "    x = layers.Dense(units = 64*4, activation=\"sigmoid\")(x)\n",
    "    \n",
    "    # input is ether stegano or not\n",
    "    number_of_classes = 2\n",
    "    \n",
    "    output = layers.Dense(number_of_classes, activation=\"softmax\")(x)\n",
    "\n",
    "    model = keras.Model(inputs, output, name=\"Steganography CNN\")\n",
    "\n",
    "    return model\n",
    "\n",
    "model = get_model(width=512, hight=512, depth=3)\n",
    "\n",
    "model.summary()"
   ]
  },
  {
   "cell_type": "code",
   "execution_count": null,
   "metadata": {},
   "outputs": [],
   "source": []
  }
 ],
 "metadata": {
  "kernelspec": {
   "display_name": "Python 3 (ipykernel)",
   "language": "python",
   "name": "python3"
  },
  "language_info": {
   "codemirror_mode": {
    "name": "ipython",
    "version": 3
   },
   "file_extension": ".py",
   "mimetype": "text/x-python",
   "name": "python",
   "nbconvert_exporter": "python",
   "pygments_lexer": "ipython3",
   "version": "3.10.6"
  },
  "orig_nbformat": 4
 },
 "nbformat": 4,
 "nbformat_minor": 2
}
